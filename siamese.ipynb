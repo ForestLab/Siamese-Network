{
 "cells": [
  {
   "cell_type": "code",
   "execution_count": 2,
   "metadata": {},
   "outputs": [],
   "source": [
    "%matplotlib inline\n",
    "import torchvision\n",
    "import torchvision.datasets as dset\n",
    "import torchvision.transforms as transforms\n",
    "from torch.utils.data import DataLoader,Dataset\n",
    "import matplotlib.pyplot as plt\n",
    "import torchvision.utils\n",
    "import numpy as np\n",
    "import random\n",
    "from PIL import Image\n",
    "import torch\n",
    "from torch.autograd import Variable\n",
    "import PIL.ImageOps    \n",
    "import torch.nn as nn\n",
    "from torch import optim\n",
    "import torch.nn.functional as F\n",
    "import pdb"
   ]
  },
  {
   "cell_type": "code",
   "execution_count": 3,
   "metadata": {},
   "outputs": [],
   "source": [
    "import os"
   ]
  },
  {
   "cell_type": "code",
   "execution_count": 4,
   "metadata": {},
   "outputs": [],
   "source": [
    "def imshow(img):\n",
    "    plt.imshow(np.transpose(img, (1,2,0)))\n",
    "    plt.show()"
   ]
  },
  {
   "cell_type": "code",
   "execution_count": 35,
   "metadata": {},
   "outputs": [],
   "source": [
    "class Config:\n",
    "    genuine_directory = \"sample_Signature/genuine/\"\n",
    "    forged_directory = \"sample_Signature/forged/\"\n",
    "    training_batch_size = 8\n",
    "    training_number_epochs = 20"
   ]
  },
  {
   "cell_type": "code",
   "execution_count": 10,
   "metadata": {},
   "outputs": [],
   "source": [
    "genuine_folder_dataset = dset.ImageFolder(root=Config.genuine_directory)\n",
    "forged_folder_dataset = dset.ImageFolder(root=Config.forged_directory)"
   ]
  },
  {
   "cell_type": "code",
   "execution_count": 11,
   "metadata": {},
   "outputs": [],
   "source": [
    "b = random.choice(forged_folder_dataset.classes)"
   ]
  },
  {
   "cell_type": "code",
   "execution_count": 12,
   "metadata": {},
   "outputs": [
    {
     "data": {
      "text/plain": [
       "['001',\n",
       " '003',\n",
       " '004',\n",
       " '005',\n",
       " '007',\n",
       " '011',\n",
       " '012',\n",
       " '013',\n",
       " '017',\n",
       " '023',\n",
       " '025',\n",
       " '033',\n",
       " '088']"
      ]
     },
     "execution_count": 12,
     "metadata": {},
     "output_type": "execute_result"
    }
   ],
   "source": [
    "forged_folder_dataset.classes"
   ]
  },
  {
   "cell_type": "code",
   "execution_count": 13,
   "metadata": {},
   "outputs": [
    {
     "data": {
      "text/plain": [
       "False"
      ]
     },
     "execution_count": 13,
     "metadata": {},
     "output_type": "execute_result"
    }
   ],
   "source": [
    "'002' in forged_folder_dataset.classes"
   ]
  },
  {
   "cell_type": "code",
   "execution_count": 14,
   "metadata": {},
   "outputs": [],
   "source": [
    "t = Image.open('sample_Signature/genuine/001/NFI-00103001.png').convert(\"RGB\")"
   ]
  },
  {
   "cell_type": "code",
   "execution_count": 15,
   "metadata": {},
   "outputs": [
    {
     "data": {
      "text/plain": [
       "<matplotlib.image.AxesImage at 0x126811278>"
      ]
     },
     "execution_count": 15,
     "metadata": {},
     "output_type": "execute_result"
    },
    {
     "data": {
      "image/png": "[encoded data removed]",
      "text/plain": [
       "<Figure size 432x288 with 1 Axes>"
      ]
     },
     "metadata": {},
     "output_type": "display_data"
    }
   ],
   "source": [
    "plt.imshow(t)"
   ]
  },
  {
   "cell_type": "code",
   "execution_count": 16,
   "metadata": {},
   "outputs": [
    {
     "data": {
      "text/plain": [
       "(88, 191)"
      ]
     },
     "execution_count": 16,
     "metadata": {},
     "output_type": "execute_result"
    }
   ],
   "source": [
    "np.array(Image.open('sample_Signature/genuine/006/NFI-00601006.png').convert(\"L\")).shape"
   ]
  },
  {
   "cell_type": "code",
   "execution_count": 17,
   "metadata": {},
   "outputs": [
    {
     "data": {
      "text/plain": [
       "[('sample_Signature/genuine/001/NFI-00101001.png', 0),\n",
       " ('sample_Signature/genuine/001/NFI-00102001.png', 0),\n",
       " ('sample_Signature/genuine/001/NFI-00103001.png', 0),\n",
       " ('sample_Signature/genuine/001/NFI-00104001.png', 0),\n",
       " ('sample_Signature/genuine/001/NFI-00105001.png', 0),\n",
       " ('sample_Signature/genuine/002/NFI-00201002.png', 1),\n",
       " ('sample_Signature/genuine/002/NFI-00202002.png', 1),\n",
       " ('sample_Signature/genuine/002/NFI-00203002.png', 1),\n",
       " ('sample_Signature/genuine/002/NFI-00204002.png', 1),\n",
       " ('sample_Signature/genuine/002/NFI-00205002.png', 1),\n",
       " ('sample_Signature/genuine/003/NFI-00301003.png', 2),\n",
       " ('sample_Signature/genuine/003/NFI-00302003.png', 2),\n",
       " ('sample_Signature/genuine/003/NFI-00303003.png', 2),\n",
       " ('sample_Signature/genuine/003/NFI-00304003.png', 2),\n",
       " ('sample_Signature/genuine/003/NFI-00305003.png', 2),\n",
       " ('sample_Signature/genuine/004/NFI-00401004.png', 3),\n",
       " ('sample_Signature/genuine/004/NFI-00402004.png', 3),\n",
       " ('sample_Signature/genuine/004/NFI-00403004.png', 3),\n",
       " ('sample_Signature/genuine/004/NFI-00404004.png', 3),\n",
       " ('sample_Signature/genuine/004/NFI-00405004.png', 3),\n",
       " ('sample_Signature/genuine/005/NFI-00501005.png', 4),\n",
       " ('sample_Signature/genuine/005/NFI-00502005.png', 4),\n",
       " ('sample_Signature/genuine/005/NFI-00503005.png', 4),\n",
       " ('sample_Signature/genuine/005/NFI-00504005.png', 4),\n",
       " ('sample_Signature/genuine/005/NFI-00505005.png', 4),\n",
       " ('sample_Signature/genuine/006/NFI-00601006.png', 5),\n",
       " ('sample_Signature/genuine/006/NFI-00602006.png', 5),\n",
       " ('sample_Signature/genuine/006/NFI-00603006.png', 5),\n",
       " ('sample_Signature/genuine/006/NFI-00604006.png', 5),\n",
       " ('sample_Signature/genuine/006/NFI-00605006.png', 5),\n",
       " ('sample_Signature/genuine/007/NFI-00701007.png', 6),\n",
       " ('sample_Signature/genuine/007/NFI-00702007.png', 6),\n",
       " ('sample_Signature/genuine/007/NFI-00703007.png', 6),\n",
       " ('sample_Signature/genuine/007/NFI-00704007.png', 6),\n",
       " ('sample_Signature/genuine/007/NFI-00705007.png', 6),\n",
       " ('sample_Signature/genuine/008/NFI-00801008.png', 7),\n",
       " ('sample_Signature/genuine/008/NFI-00802008.png', 7),\n",
       " ('sample_Signature/genuine/008/NFI-00803008.png', 7),\n",
       " ('sample_Signature/genuine/008/NFI-00804008.png', 7),\n",
       " ('sample_Signature/genuine/008/NFI-00805008.png', 7),\n",
       " ('sample_Signature/genuine/009/NFI-00901009.png', 8),\n",
       " ('sample_Signature/genuine/009/NFI-00902009.png', 8),\n",
       " ('sample_Signature/genuine/009/NFI-00903009.png', 8),\n",
       " ('sample_Signature/genuine/009/NFI-00904009.png', 8),\n",
       " ('sample_Signature/genuine/009/NFI-00905009.png', 8),\n",
       " ('sample_Signature/genuine/010/NFI-01001010.png', 9),\n",
       " ('sample_Signature/genuine/010/NFI-01002010.png', 9),\n",
       " ('sample_Signature/genuine/010/NFI-01003010.png', 9),\n",
       " ('sample_Signature/genuine/010/NFI-01004010.png', 9),\n",
       " ('sample_Signature/genuine/010/NFI-01005010.png', 9),\n",
       " ('sample_Signature/genuine/011/NFI-01101011.png', 10),\n",
       " ('sample_Signature/genuine/011/NFI-01102011.png', 10),\n",
       " ('sample_Signature/genuine/011/NFI-01103011.png', 10),\n",
       " ('sample_Signature/genuine/011/NFI-01104011.png', 10),\n",
       " ('sample_Signature/genuine/011/NFI-01105011.png', 10),\n",
       " ('sample_Signature/genuine/012/NFI-01201012.png', 11),\n",
       " ('sample_Signature/genuine/012/NFI-01202012.png', 11),\n",
       " ('sample_Signature/genuine/012/NFI-01203012.png', 11),\n",
       " ('sample_Signature/genuine/012/NFI-01204012.png', 11),\n",
       " ('sample_Signature/genuine/012/NFI-01205012.png', 11),\n",
       " ('sample_Signature/genuine/013/NFI-01301013.png', 12),\n",
       " ('sample_Signature/genuine/013/NFI-01302013.png', 12),\n",
       " ('sample_Signature/genuine/013/NFI-01303013.png', 12),\n",
       " ('sample_Signature/genuine/013/NFI-01304013.png', 12),\n",
       " ('sample_Signature/genuine/013/NFI-01305013.png', 12),\n",
       " ('sample_Signature/genuine/014/NFI-01401014.png', 13),\n",
       " ('sample_Signature/genuine/014/NFI-01402014.png', 13),\n",
       " ('sample_Signature/genuine/014/NFI-01403014.png', 13),\n",
       " ('sample_Signature/genuine/014/NFI-01404014.png', 13),\n",
       " ('sample_Signature/genuine/014/NFI-01405014.png', 13),\n",
       " ('sample_Signature/genuine/015/NFI-01501015.png', 14),\n",
       " ('sample_Signature/genuine/015/NFI-01502015.png', 14),\n",
       " ('sample_Signature/genuine/015/NFI-01503015.png', 14),\n",
       " ('sample_Signature/genuine/015/NFI-01504015.png', 14),\n",
       " ('sample_Signature/genuine/015/NFI-01505015.png', 14),\n",
       " ('sample_Signature/genuine/016/NFI-01601016.png', 15),\n",
       " ('sample_Signature/genuine/016/NFI-01602016.png', 15),\n",
       " ('sample_Signature/genuine/016/NFI-01603016.png', 15),\n",
       " ('sample_Signature/genuine/016/NFI-01604016.png', 15),\n",
       " ('sample_Signature/genuine/016/NFI-01605016.png', 15),\n",
       " ('sample_Signature/genuine/017/NFI-01701017.png', 16),\n",
       " ('sample_Signature/genuine/017/NFI-01702017.png', 16),\n",
       " ('sample_Signature/genuine/017/NFI-01703017.png', 16),\n",
       " ('sample_Signature/genuine/017/NFI-01704017.png', 16),\n",
       " ('sample_Signature/genuine/017/NFI-01705017.png', 16),\n",
       " ('sample_Signature/genuine/018/NFI-01801018.png', 17),\n",
       " ('sample_Signature/genuine/018/NFI-01802018.png', 17),\n",
       " ('sample_Signature/genuine/018/NFI-01803018.png', 17),\n",
       " ('sample_Signature/genuine/018/NFI-01804018.png', 17),\n",
       " ('sample_Signature/genuine/018/NFI-01805018.png', 17),\n",
       " ('sample_Signature/genuine/019/NFI-01901019.png', 18),\n",
       " ('sample_Signature/genuine/019/NFI-01902019.png', 18),\n",
       " ('sample_Signature/genuine/019/NFI-01903019.png', 18),\n",
       " ('sample_Signature/genuine/019/NFI-01904019.png', 18),\n",
       " ('sample_Signature/genuine/019/NFI-01905019.png', 18),\n",
       " ('sample_Signature/genuine/020/NFI-02001020.png', 19),\n",
       " ('sample_Signature/genuine/020/NFI-02002020.png', 19),\n",
       " ('sample_Signature/genuine/020/NFI-02003020.png', 19),\n",
       " ('sample_Signature/genuine/020/NFI-02004020.png', 19),\n",
       " ('sample_Signature/genuine/020/NFI-02005020.png', 19),\n",
       " ('sample_Signature/genuine/021/NFI-02101021.png', 20),\n",
       " ('sample_Signature/genuine/021/NFI-02102021.png', 20),\n",
       " ('sample_Signature/genuine/021/NFI-02103021.png', 20),\n",
       " ('sample_Signature/genuine/021/NFI-02104021.png', 20),\n",
       " ('sample_Signature/genuine/021/NFI-02105021.png', 20),\n",
       " ('sample_Signature/genuine/022/NFI-02201022.png', 21),\n",
       " ('sample_Signature/genuine/022/NFI-02202022.png', 21),\n",
       " ('sample_Signature/genuine/022/NFI-02203022.png', 21),\n",
       " ('sample_Signature/genuine/022/NFI-02204022.png', 21),\n",
       " ('sample_Signature/genuine/022/NFI-02205022.png', 21),\n",
       " ('sample_Signature/genuine/023/NFI-02301023.png', 22),\n",
       " ('sample_Signature/genuine/023/NFI-02302023.png', 22),\n",
       " ('sample_Signature/genuine/023/NFI-02303023.png', 22),\n",
       " ('sample_Signature/genuine/023/NFI-02304023.png', 22),\n",
       " ('sample_Signature/genuine/023/NFI-02305023.png', 22),\n",
       " ('sample_Signature/genuine/024/NFI-02401024.png', 23),\n",
       " ('sample_Signature/genuine/024/NFI-02402024.png', 23),\n",
       " ('sample_Signature/genuine/024/NFI-02403024.png', 23),\n",
       " ('sample_Signature/genuine/024/NFI-02404024.png', 23),\n",
       " ('sample_Signature/genuine/024/NFI-02405024.png', 23),\n",
       " ('sample_Signature/genuine/025/NFI-02501025.PNG', 24),\n",
       " ('sample_Signature/genuine/025/NFI-02502025.PNG', 24),\n",
       " ('sample_Signature/genuine/025/NFI-02503025.PNG', 24),\n",
       " ('sample_Signature/genuine/025/NFI-02504025.PNG', 24),\n",
       " ('sample_Signature/genuine/025/NFI-02505025.PNG', 24),\n",
       " ('sample_Signature/genuine/026/NFI-02601026.PNG', 25),\n",
       " ('sample_Signature/genuine/026/NFI-02602026.PNG', 25),\n",
       " ('sample_Signature/genuine/026/NFI-02603026.PNG', 25),\n",
       " ('sample_Signature/genuine/026/NFI-02604026.PNG', 25),\n",
       " ('sample_Signature/genuine/026/NFI-02605026.PNG', 25),\n",
       " ('sample_Signature/genuine/027/NFI-02701027.PNG', 26),\n",
       " ('sample_Signature/genuine/027/NFI-02702027.PNG', 26),\n",
       " ('sample_Signature/genuine/027/NFI-02703027.PNG', 26),\n",
       " ('sample_Signature/genuine/027/NFI-02704027.PNG', 26),\n",
       " ('sample_Signature/genuine/027/NFI-02705027.PNG', 26),\n",
       " ('sample_Signature/genuine/028/NFI-02801028.PNG', 27),\n",
       " ('sample_Signature/genuine/028/NFI-02802028.PNG', 27),\n",
       " ('sample_Signature/genuine/028/NFI-02803028.PNG', 27),\n",
       " ('sample_Signature/genuine/028/NFI-02804028.PNG', 27),\n",
       " ('sample_Signature/genuine/028/NFI-02805028.PNG', 27),\n",
       " ('sample_Signature/genuine/029/NFI-02901029.PNG', 28),\n",
       " ('sample_Signature/genuine/029/NFI-02902029.PNG', 28),\n",
       " ('sample_Signature/genuine/029/NFI-02903029.PNG', 28),\n",
       " ('sample_Signature/genuine/029/NFI-02904029.PNG', 28),\n",
       " ('sample_Signature/genuine/029/NFI-02905029.PNG', 28),\n",
       " ('sample_Signature/genuine/030/NFI-03001030.PNG', 29),\n",
       " ('sample_Signature/genuine/030/NFI-03002030.PNG', 29),\n",
       " ('sample_Signature/genuine/030/NFI-03003030.PNG', 29),\n",
       " ('sample_Signature/genuine/030/NFI-03004030.PNG', 29),\n",
       " ('sample_Signature/genuine/030/NFI-03005030.PNG', 29)]"
      ]
     },
     "execution_count": 17,
     "metadata": {},
     "output_type": "execute_result"
    }
   ],
   "source": [
    "genuine_folder_dataset.imgs"
   ]
  },
  {
   "cell_type": "code",
   "execution_count": 18,
   "metadata": {},
   "outputs": [],
   "source": [
    "t = random.choice(genuine_folder_dataset.classes)"
   ]
  },
  {
   "cell_type": "code",
   "execution_count": 19,
   "metadata": {},
   "outputs": [],
   "source": [
    "a = os.listdir(\"{}{}\".format(Config.genuine_directory, t))"
   ]
  },
  {
   "cell_type": "code",
   "execution_count": 20,
   "metadata": {},
   "outputs": [],
   "source": [
    "name = \"{}{}\".format(Config.genuine_directory, t)"
   ]
  },
  {
   "cell_type": "code",
   "execution_count": 21,
   "metadata": {},
   "outputs": [
    {
     "data": {
      "text/plain": [
       "'sample_Signature/genuine/017'"
      ]
     },
     "execution_count": 21,
     "metadata": {},
     "output_type": "execute_result"
    }
   ],
   "source": [
    "name"
   ]
  },
  {
   "cell_type": "code",
   "execution_count": 22,
   "metadata": {},
   "outputs": [],
   "source": [
    "random1 = random.choice(os.listdir(\"{}{}\".format(Config.genuine_directory, t)))"
   ]
  },
  {
   "cell_type": "code",
   "execution_count": 23,
   "metadata": {},
   "outputs": [],
   "source": [
    "t = (Image.open(f'{name}/{random1}'))"
   ]
  },
  {
   "cell_type": "code",
   "execution_count": 24,
   "metadata": {},
   "outputs": [],
   "source": [
    "t = t.convert(\"L\")"
   ]
  },
  {
   "cell_type": "code",
   "execution_count": 25,
   "metadata": {},
   "outputs": [
    {
     "data": {
      "text/plain": [
       "(75, 261)"
      ]
     },
     "execution_count": 25,
     "metadata": {},
     "output_type": "execute_result"
    }
   ],
   "source": [
    "np.array(t).shape"
   ]
  },
  {
   "cell_type": "code",
   "execution_count": 26,
   "metadata": {},
   "outputs": [],
   "source": [
    "class SiameseNetworkDataset(Dataset):\n",
    "    def __init__(self, genuineImagesDataset, forgedImageDataset):\n",
    "        self.genuineImages = genuineImagesDataset\n",
    "        self.forgedImages = forgedImageDataset\n",
    "    \n",
    "    def __getitem__(self, index):\n",
    "        genuine_img_random_folder = random.choice(self.genuineImages.classes)\n",
    "\n",
    "        genuine_name = os.listdir(\"{}{}\".format(Config.genuine_directory, genuine_img_random_folder))\n",
    "        img0_genuine = random.choice(genuine_name)\n",
    "        genuine_name = \"{}{}/{}\".format(Config.genuine_directory, genuine_img_random_folder, img0_genuine)\n",
    "        genuine = random.randint(0,1)\n",
    "        if genuine:\n",
    "            name = os.listdir(\"{}{}\".format(Config.genuine_directory, genuine_img_random_folder))\n",
    "            img1 = random.choice(name)\n",
    "            name = \"{}{}/{}\".format(Config.genuine_directory, genuine_img_random_folder, img1)\n",
    "        else:\n",
    "            if genuine_img_random_folder in self.forgedImages.classes:\n",
    "                name = os.listdir(\"{}{}\".format(Config.forged_directory, genuine_img_random_folder))\n",
    "                img1 = random.choice(name)\n",
    "                name = \"{}{}/{}\".format(Config.forged_directory, genuine_img_random_folder, img1)\n",
    "            else:\n",
    "                forged_img_random_folder = random.choice(self.forgedImages.classes)\n",
    "                name = os.listdir(\"{}{}\".format(Config.forged_directory, forged_img_random_folder))\n",
    "                img1 = random.choice(name)\n",
    "                name = \"{}{}/{}\".format(Config.forged_directory, forged_img_random_folder, img1)\n",
    "                \n",
    "    \n",
    "        img0_genuine = np.array(Image.open(genuine_name).convert(\"RGB\").resize((1000,1000)))\n",
    "        img1 = np.array(Image.open(name).convert(\"RGB\").resize((1000,1000)))\n",
    "        \n",
    "        return img0_genuine, img1 , torch.from_numpy(np.array([int(genuine)],dtype=np.float32))\n",
    "    \n",
    "    def __len__(self):\n",
    "        return len(self.genuineImages.imgs)"
   ]
  },
  {
   "cell_type": "code",
   "execution_count": 40,
   "metadata": {},
   "outputs": [],
   "source": []
  }
 ],
 "metadata": {
  "kernelspec": {
   "display_name": "Python 3",
   "language": "python",
   "name": "python3"
  },
  "language_info": {
   "codemirror_mode": {
    "name": "ipython",
    "version": 3
   },
   "file_extension": ".py",
   "mimetype": "text/x-python",
   "name": "python",
   "nbconvert_exporter": "python",
   "pygments_lexer": "ipython3",
   "version": "3.6.5"
  }
 },
 "nbformat": 4,
 "nbformat_minor": 2
}
